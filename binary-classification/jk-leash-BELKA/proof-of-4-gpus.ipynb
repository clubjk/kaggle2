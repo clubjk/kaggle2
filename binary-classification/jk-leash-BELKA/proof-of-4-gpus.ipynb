{
 "cells": [
  {
   "cell_type": "code",
   "execution_count": 7,
   "id": "36824d77-3956-4962-a24d-edb71e3aad7b",
   "metadata": {},
   "outputs": [
    {
     "name": "stdout",
     "output_type": "stream",
     "text": [
      "hello\n"
     ]
    }
   ],
   "source": [
    "print (\"hello\")\n"
   ]
  },
  {
   "cell_type": "code",
   "execution_count": 8,
   "id": "adbebe81-4dbc-4e3b-9d9f-69846d5b39f6",
   "metadata": {},
   "outputs": [],
   "source": [
    "#pip install nvidia-ml-py3"
   ]
  },
  {
   "cell_type": "code",
   "execution_count": 9,
   "id": "a914daa3-c0b1-4d97-bf78-5d151f4641e8",
   "metadata": {},
   "outputs": [
    {
     "name": "stdout",
     "output_type": "stream",
     "text": [
      "Number of GPUs: 4\n",
      "GPU 0: b'NVIDIA GeForce RTX 2080'\n",
      "  Memory Used: 13 MB\n",
      "  Memory Free: 7968 MB\n",
      "  Memory Total: 7982 MB\n",
      "GPU 1: b'NVIDIA GeForce RTX 2080'\n",
      "  Memory Used: 13 MB\n",
      "  Memory Free: 7968 MB\n",
      "  Memory Total: 7982 MB\n",
      "GPU 2: b'NVIDIA GeForce RTX 2080'\n",
      "  Memory Used: 13 MB\n",
      "  Memory Free: 7968 MB\n",
      "  Memory Total: 7982 MB\n",
      "GPU 3: b'NVIDIA GeForce RTX 2080'\n",
      "  Memory Used: 13 MB\n",
      "  Memory Free: 7968 MB\n",
      "  Memory Total: 7982 MB\n"
     ]
    }
   ],
   "source": [
    "from pynvml import *\n",
    "\n",
    "# Initialize the NVML library\n",
    "nvmlInit()\n",
    "\n",
    "# Get the number of GPUs\n",
    "gpu_count = nvmlDeviceGetCount()\n",
    "\n",
    "print(f\"Number of GPUs: {gpu_count}\")\n",
    "\n",
    "# Loop through all GPUs\n",
    "for i in range(gpu_count):\n",
    "    handle = nvmlDeviceGetHandleByIndex(i)\n",
    "    name = nvmlDeviceGetName(handle)\n",
    "    memory_info = nvmlDeviceGetMemoryInfo(handle)\n",
    "    print(f\"GPU {i}: {name}\")\n",
    "    print(f\"  Memory Used: {memory_info.used // 1024 ** 2} MB\")\n",
    "    print(f\"  Memory Free: {memory_info.free // 1024 ** 2} MB\")\n",
    "    print(f\"  Memory Total: {memory_info.total // 1024 ** 2} MB\")\n",
    "\n",
    "# Shutdown NVML\n",
    "nvmlShutdown()"
   ]
  },
  {
   "cell_type": "code",
   "execution_count": null,
   "id": "efd81f89-32d6-404e-aeb4-4d7df1032967",
   "metadata": {},
   "outputs": [],
   "source": []
  }
 ],
 "metadata": {
  "kernelspec": {
   "display_name": "Python (new_ml_env)",
   "language": "python",
   "name": "new_ml_env"
  },
  "language_info": {
   "codemirror_mode": {
    "name": "ipython",
    "version": 3
   },
   "file_extension": ".py",
   "mimetype": "text/x-python",
   "name": "python",
   "nbconvert_exporter": "python",
   "pygments_lexer": "ipython3",
   "version": "3.8.19"
  }
 },
 "nbformat": 4,
 "nbformat_minor": 5
}
