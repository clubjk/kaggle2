{
 "cells": [
  {
   "cell_type": "code",
   "execution_count": 1,
   "id": "4eee389d-1de3-4c78-8225-af26135e2935",
   "metadata": {},
   "outputs": [],
   "source": [
    "import pandas as pd\n",
    "\n",
    "# Load the datasets\n",
    "train_data = pd.read_csv('/home/john/ai/kaggle/poison-mushroom-binary-prediction/train.csv')\n",
    "test_data = pd.read_csv('/home/john/ai/kaggle/poison-mushroom-binary-prediction/test.csv')"
   ]
  },
  {
   "cell_type": "code",
   "execution_count": 2,
   "id": "a95e8edd-e5dc-4d7a-9c35-747b25031d0d",
   "metadata": {},
   "outputs": [
    {
     "name": "stdout",
     "output_type": "stream",
     "text": [
      "First few rows of the training data:\n",
      "   id class  cap-diameter cap-shape cap-surface cap-color  \\\n",
      "0   0     e          8.80         f           s         u   \n",
      "1   1     p          4.51         x           h         o   \n",
      "2   2     e          6.94         f           s         b   \n",
      "3   3     e          3.88         f           y         g   \n",
      "4   4     e          5.85         x           l         w   \n",
      "\n",
      "  does-bruise-or-bleed gill-attachment gill-spacing gill-color  ...  \\\n",
      "0                    f               a            c          w  ...   \n",
      "1                    f               a            c          n  ...   \n",
      "2                    f               x            c          w  ...   \n",
      "3                    f               s          NaN          g  ...   \n",
      "4                    f               d          NaN          w  ...   \n",
      "\n",
      "   stem-root  stem-surface stem-color veil-type veil-color has-ring ring-type  \\\n",
      "0        NaN           NaN          w       NaN        NaN        f         f   \n",
      "1        NaN             y          o       NaN        NaN        t         z   \n",
      "2        NaN             s          n       NaN        NaN        f         f   \n",
      "3        NaN           NaN          w       NaN        NaN        f         f   \n",
      "4        NaN           NaN          w       NaN        NaN        f         f   \n",
      "\n",
      "  spore-print-color habitat season  \n",
      "0               NaN       d      a  \n",
      "1               NaN       d      w  \n",
      "2               NaN       l      w  \n",
      "3               NaN       d      u  \n",
      "4               NaN       g      a  \n",
      "\n",
      "[5 rows x 22 columns]\n"
     ]
    }
   ],
   "source": [
    "# Display the first few rows of the training data\n",
    "print(\"First few rows of the training data:\")\n",
    "print(train_data.head())"
   ]
  },
  {
   "cell_type": "code",
   "execution_count": 3,
   "id": "546d7a7c-220d-4bfd-b02c-831824756681",
   "metadata": {},
   "outputs": [
    {
     "name": "stdout",
     "output_type": "stream",
     "text": [
      "\n",
      "Basic statistics of the training data:\n",
      "                 id  cap-diameter   stem-height    stem-width\n",
      "count  3.116945e+06  3.116941e+06  3.116945e+06  3.116945e+06\n",
      "mean   1.558472e+06  6.309848e+00  6.348333e+00  1.115379e+01\n",
      "std    8.997847e+05  4.657931e+00  2.699755e+00  8.095477e+00\n",
      "min    0.000000e+00  3.000000e-02  0.000000e+00  0.000000e+00\n",
      "25%    7.792360e+05  3.320000e+00  4.670000e+00  4.970000e+00\n",
      "50%    1.558472e+06  5.750000e+00  5.880000e+00  9.650000e+00\n",
      "75%    2.337708e+06  8.240000e+00  7.410000e+00  1.563000e+01\n",
      "max    3.116944e+06  8.067000e+01  8.872000e+01  1.029000e+02\n"
     ]
    }
   ],
   "source": [
    "# Display basic statistics of the training data\n",
    "print(\"\\nBasic statistics of the training data:\")\n",
    "print(train_data.describe())"
   ]
  },
  {
   "cell_type": "code",
   "execution_count": 4,
   "id": "5a7f8ad9-c486-43ec-8ffa-9a7ec34dffa7",
   "metadata": {},
   "outputs": [
    {
     "name": "stdout",
     "output_type": "stream",
     "text": [
      "\n",
      "Data types and missing values in the training data:\n",
      "<class 'pandas.core.frame.DataFrame'>\n",
      "RangeIndex: 3116945 entries, 0 to 3116944\n",
      "Data columns (total 22 columns):\n",
      " #   Column                Dtype  \n",
      "---  ------                -----  \n",
      " 0   id                    int64  \n",
      " 1   class                 object \n",
      " 2   cap-diameter          float64\n",
      " 3   cap-shape             object \n",
      " 4   cap-surface           object \n",
      " 5   cap-color             object \n",
      " 6   does-bruise-or-bleed  object \n",
      " 7   gill-attachment       object \n",
      " 8   gill-spacing          object \n",
      " 9   gill-color            object \n",
      " 10  stem-height           float64\n",
      " 11  stem-width            float64\n",
      " 12  stem-root             object \n",
      " 13  stem-surface          object \n",
      " 14  stem-color            object \n",
      " 15  veil-type             object \n",
      " 16  veil-color            object \n",
      " 17  has-ring              object \n",
      " 18  ring-type             object \n",
      " 19  spore-print-color     object \n",
      " 20  habitat               object \n",
      " 21  season                object \n",
      "dtypes: float64(3), int64(1), object(18)\n",
      "memory usage: 523.2+ MB\n",
      "None\n",
      "\n",
      "Missing values in the training data:\n",
      "id                            0\n",
      "class                         0\n",
      "cap-diameter                  4\n",
      "cap-shape                    40\n",
      "cap-surface              671023\n",
      "cap-color                    12\n",
      "does-bruise-or-bleed          8\n",
      "gill-attachment          523936\n",
      "gill-spacing            1258435\n",
      "gill-color                   57\n",
      "stem-height                   0\n",
      "stem-width                    0\n",
      "stem-root               2757023\n",
      "stem-surface            1980861\n",
      "stem-color                   38\n",
      "veil-type               2957493\n",
      "veil-color              2740947\n",
      "has-ring                     24\n",
      "ring-type                128880\n",
      "spore-print-color       2849682\n",
      "habitat                      45\n",
      "season                        0\n",
      "dtype: int64\n"
     ]
    }
   ],
   "source": [
    "# Display the data types and check for missing values\n",
    "print(\"\\nData types and missing values in the training data:\")\n",
    "print(train_data.info())\n",
    "print(\"\\nMissing values in the training data:\")\n",
    "print(train_data.isnull().sum())"
   ]
  },
  {
   "cell_type": "code",
   "execution_count": 6,
   "id": "b0b1a84d-31a6-426a-9b8a-11f95878a3c6",
   "metadata": {},
   "outputs": [
    {
     "name": "stdout",
     "output_type": "stream",
     "text": [
      "\n",
      "Distribution of the target variable:\n",
      "class\n",
      "p    1705396\n",
      "e    1411549\n",
      "Name: count, dtype: int64\n"
     ]
    }
   ],
   "source": [
    "# Check the distribution of the target variable (assuming it's named 'target')\n",
    "print(\"\\nDistribution of the target variable:\")\n",
    "print(train_data['class'].value_counts())"
   ]
  },
  {
   "cell_type": "code",
   "execution_count": 7,
   "id": "293f0745-3d4e-44ff-9fbb-d74148ce0bf0",
   "metadata": {},
   "outputs": [
    {
     "name": "stdout",
     "output_type": "stream",
     "text": [
      "\n",
      "Unique values in categorical features:\n",
      "class: 2 unique values\n",
      "cap-shape: 74 unique values\n",
      "cap-surface: 83 unique values\n",
      "cap-color: 78 unique values\n",
      "does-bruise-or-bleed: 26 unique values\n",
      "gill-attachment: 78 unique values\n",
      "gill-spacing: 48 unique values\n",
      "gill-color: 63 unique values\n",
      "stem-root: 38 unique values\n",
      "stem-surface: 60 unique values\n",
      "stem-color: 59 unique values\n",
      "veil-type: 22 unique values\n",
      "veil-color: 24 unique values\n",
      "has-ring: 23 unique values\n",
      "ring-type: 40 unique values\n",
      "spore-print-color: 32 unique values\n",
      "habitat: 52 unique values\n",
      "season: 4 unique values\n"
     ]
    }
   ],
   "source": [
    "# Analyze categorical features (assuming most features are categorical)\n",
    "print(\"\\nUnique values in categorical features:\")\n",
    "for column in train_data.columns:\n",
    "    if train_data[column].dtype == 'object':\n",
    "        print(f\"{column}: {train_data[column].nunique()} unique values\")"
   ]
  },
  {
   "cell_type": "markdown",
   "id": "aef55b43-a720-40d9-916c-483a208a295d",
   "metadata": {},
   "source": [
    "Prepare that data so we can use it to train a model"
   ]
  },
  {
   "cell_type": "code",
   "execution_count": 16,
   "id": "76b0fe1e-c9ef-4351-929f-a76ff43a9f41",
   "metadata": {},
   "outputs": [
    {
     "name": "stdout",
     "output_type": "stream",
     "text": [
      "Training set shape: (2493556, 21)\n",
      "Validation set shape: (623389, 21)\n"
     ]
    }
   ],
   "source": [
    "import pandas as pd\n",
    "from sklearn.model_selection import train_test_split\n",
    "from sklearn.preprocessing import LabelEncoder, StandardScaler\n",
    "from sklearn.impute import SimpleImputer\n",
    "\n",
    "# Load the dataset\n",
    "train_data = pd.read_csv('/home/john/ai/kaggle/poison-mushroom-binary-prediction/train.csv')\n",
    "\n",
    "# Handle missing data by imputing with the most frequent value (mode)\n",
    "imputer = SimpleImputer(strategy='most_frequent')\n",
    "train_data = pd.DataFrame(imputer.fit_transform(train_data), columns=train_data.columns)\n",
    "\n",
    "# Encode categorical variables\n",
    "label_encoders = {}\n",
    "for column in train_data.columns:\n",
    "    if train_data[column].dtype == 'object':\n",
    "        label_encoders[column] = LabelEncoder()\n",
    "        train_data[column] = label_encoders[column].fit_transform(train_data[column])\n",
    "\n",
    "# Split the data into features and target variable\n",
    "X = train_data.drop('class', axis=1)\n",
    "y = train_data['class']\n",
    "\n",
    "# Feature scaling (optional, depending on the model you plan to use)\n",
    "scaler = StandardScaler()\n",
    "X_scaled = scaler.fit_transform(X)\n",
    "\n",
    "# Split the data into training and validation sets\n",
    "X_train, X_val, y_train, y_val = train_test_split(X_scaled, y, test_size=0.2, random_state=42)\n",
    "\n",
    "# Display the shapes of the training and validation sets\n",
    "print(\"Training set shape:\", X_train.shape)\n",
    "print(\"Validation set shape:\", X_val.shape)\n"
   ]
  },
  {
   "cell_type": "markdown",
   "id": "7e4b0df0-8687-4b2c-b09c-3318a071590c",
   "metadata": {},
   "source": [
    "train a model, then create a submission.csv"
   ]
  },
  {
   "cell_type": "code",
   "execution_count": 23,
   "id": "e1e5bd6d-fda2-4493-b6fb-25e592abfb6a",
   "metadata": {},
   "outputs": [
    {
     "name": "stdout",
     "output_type": "stream",
     "text": [
      "Submission file created successfully!\n"
     ]
    }
   ],
   "source": [
    "import pandas as pd\n",
    "from sklearn.ensemble import RandomForestClassifier\n",
    "from sklearn.impute import SimpleImputer\n",
    "from sklearn.preprocessing import LabelEncoder, StandardScaler\n",
    "\n",
    "# Load the datasets\n",
    "train_data = pd.read_csv('/home/john/ai/kaggle/poison-mushroom-binary-prediction/train.csv')\n",
    "test_data = pd.read_csv('/home/john/ai/kaggle/poison-mushroom-binary-prediction/test.csv')\n",
    "sample_submission = pd.read_csv('/home/john/ai/kaggle/poison-mushroom-binary-prediction/sample_submission.csv')\n",
    "\n",
    "# Handle missing data by imputing with the most frequent value (mode)\n",
    "imputer = SimpleImputer(strategy='most_frequent')\n",
    "train_data = pd.DataFrame(imputer.fit_transform(train_data), columns=train_data.columns)\n",
    "test_data = pd.DataFrame(imputer.fit_transform(test_data), columns=test_data.columns)\n",
    "\n",
    "# Encode categorical variables\n",
    "label_encoders = {}\n",
    "for column in train_data.columns:\n",
    "    if train_data[column].dtype == 'object':\n",
    "        label_encoders[column] = LabelEncoder()\n",
    "        train_data[column] = label_encoders[column].fit_transform(train_data[column])\n",
    "\n",
    "for column in test_data.columns:\n",
    "    if test_data[column].dtype == 'object':\n",
    "        label_encoders[column] = LabelEncoder()\n",
    "        test_data[column] = label_encoders[column].fit_transform(test_data[column])\n",
    "\n",
    "# Split the data into features and target variable\n",
    "X = train_data.drop('class', axis=1)\n",
    "y = train_data['class']\n",
    "\n",
    "# Feature scaling (optional, depending on the model you plan to use)\n",
    "scaler = StandardScaler()\n",
    "X_scaled = scaler.fit_transform(X)\n",
    "test_data_scaled = scaler.transform(test_data)\n",
    "\n",
    "# Train a RandomForest model\n",
    "model = RandomForestClassifier(random_state=42)\n",
    "model.fit(X_scaled, y)\n",
    "\n",
    "# Make predictions on the test set\n",
    "predictions = model.predict(test_data_scaled)\n",
    "\n",
    "# Map 0 to 'e' and 1 to 'p'\n",
    "predictions_mapped = ['e' if pred == 0 else 'p' for pred in predictions]\n",
    "\n",
    "# Prepare the submission file by using the sample_submission format\n",
    "submission = sample_submission.copy()\n",
    "submission['class'] = predictions_mapped  # Assuming the submission format has a 'class' column\n",
    "\n",
    "# Save the submission to a CSV file\n",
    "submission.to_csv('/home/john/ai/kaggle/poison-mushroom-binary-prediction/submission.csv', index=False)\n",
    "\n",
    "print(\"Submission file created successfully!\")\n"
   ]
  },
  {
   "cell_type": "code",
   "execution_count": null,
   "id": "04768fdb-0616-4381-918b-87a1c3e78b85",
   "metadata": {},
   "outputs": [],
   "source": []
  }
 ],
 "metadata": {
  "kernelspec": {
   "display_name": "Python (new_ml_env)",
   "language": "python",
   "name": "new_ml_env"
  },
  "language_info": {
   "codemirror_mode": {
    "name": "ipython",
    "version": 3
   },
   "file_extension": ".py",
   "mimetype": "text/x-python",
   "name": "python",
   "nbconvert_exporter": "python",
   "pygments_lexer": "ipython3",
   "version": "3.8.19"
  }
 },
 "nbformat": 4,
 "nbformat_minor": 5
}
