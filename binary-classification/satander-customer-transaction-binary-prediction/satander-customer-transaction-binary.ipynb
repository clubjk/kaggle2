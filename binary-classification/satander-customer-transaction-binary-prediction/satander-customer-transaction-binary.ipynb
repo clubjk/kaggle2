{
 "cells": [
  {
   "cell_type": "markdown",
   "id": "a5011482-5b3e-40bc-a030-e31b3525ca5b",
   "metadata": {},
   "source": [
    "Data Analysis"
   ]
  },
  {
   "cell_type": "code",
   "execution_count": 2,
   "id": "e41e4950-3223-4f81-a961-2b036063ddfb",
   "metadata": {},
   "outputs": [],
   "source": [
    "import pandas as pd\n",
    "\n",
    "# Load the data\n",
    "train_path = '/home/john/ai/kaggle/satander-customer-transaction-binary-prediction/train.csv'\n",
    "test_path = '/home/john/ai/kaggle/satander-customer-transaction-binary-prediction/test.csv'\n",
    "\n",
    "train_df = pd.read_csv(train_path)\n",
    "test_df = pd.read_csv(test_path)"
   ]
  },
  {
   "cell_type": "code",
   "execution_count": 3,
   "id": "528d4e9d-6cdc-4c6b-9ba1-69f573b21c41",
   "metadata": {},
   "outputs": [
    {
     "name": "stdout",
     "output_type": "stream",
     "text": [
      "Train DataFrame shape: (200000, 202)\n",
      "Test DataFrame shape: (200000, 201)\n",
      "\n",
      "Train DataFrame columns:\n",
      " Index(['ID_code', 'target', 'var_0', 'var_1', 'var_2', 'var_3', 'var_4',\n",
      "       'var_5', 'var_6', 'var_7',\n",
      "       ...\n",
      "       'var_190', 'var_191', 'var_192', 'var_193', 'var_194', 'var_195',\n",
      "       'var_196', 'var_197', 'var_198', 'var_199'],\n",
      "      dtype='object', length=202)\n",
      "\n",
      "Test DataFrame columns:\n",
      " Index(['ID_code', 'var_0', 'var_1', 'var_2', 'var_3', 'var_4', 'var_5',\n",
      "       'var_6', 'var_7', 'var_8',\n",
      "       ...\n",
      "       'var_190', 'var_191', 'var_192', 'var_193', 'var_194', 'var_195',\n",
      "       'var_196', 'var_197', 'var_198', 'var_199'],\n",
      "      dtype='object', length=201)\n"
     ]
    }
   ],
   "source": [
    "# 1. Understand the structure of the data\n",
    "print(\"Train DataFrame shape:\", train_df.shape)\n",
    "print(\"Test DataFrame shape:\", test_df.shape)\n",
    "print(\"\\nTrain DataFrame columns:\\n\", train_df.columns)\n",
    "print(\"\\nTest DataFrame columns:\\n\", test_df.columns)"
   ]
  },
  {
   "cell_type": "code",
   "execution_count": 4,
   "id": "5dce64cc-6649-4f13-9aab-364e782c94d6",
   "metadata": {},
   "outputs": [
    {
     "name": "stdout",
     "output_type": "stream",
     "text": [
      "\n",
      "Missing values in Train DataFrame:\n",
      " ID_code    0\n",
      "var_136    0\n",
      "var_126    0\n",
      "var_127    0\n",
      "var_128    0\n",
      "dtype: int64\n",
      "\n",
      "Missing values in Test DataFrame:\n",
      " ID_code    0\n",
      "var_137    0\n",
      "var_127    0\n",
      "var_128    0\n",
      "var_129    0\n",
      "dtype: int64\n"
     ]
    }
   ],
   "source": [
    "# 2. Check for missing values\n",
    "print(\"\\nMissing values in Train DataFrame:\\n\", train_df.isnull().sum().sort_values(ascending=False).head())\n",
    "print(\"\\nMissing values in Test DataFrame:\\n\", test_df.isnull().sum().sort_values(ascending=False).head())\n"
   ]
  },
  {
   "cell_type": "code",
   "execution_count": 5,
   "id": "a11d13ca-5db6-47bc-9864-77c9010e360d",
   "metadata": {},
   "outputs": [
    {
     "name": "stdout",
     "output_type": "stream",
     "text": [
      "\n",
      "Descriptive statistics for Train DataFrame:\n",
      "               target          var_0          var_1          var_2  \\\n",
      "count  200000.000000  200000.000000  200000.000000  200000.000000   \n",
      "mean        0.100490      10.679914      -1.627622      10.715192   \n",
      "std         0.300653       3.040051       4.050044       2.640894   \n",
      "min         0.000000       0.408400     -15.043400       2.117100   \n",
      "25%         0.000000       8.453850      -4.740025       8.722475   \n",
      "50%         0.000000      10.524750      -1.608050      10.580000   \n",
      "75%         0.000000      12.758200       1.358625      12.516700   \n",
      "max         1.000000      20.315000      10.376800      19.353000   \n",
      "\n",
      "               var_3          var_4          var_5          var_6  \\\n",
      "count  200000.000000  200000.000000  200000.000000  200000.000000   \n",
      "mean        6.796529      11.078333      -5.065317       5.408949   \n",
      "std         2.043319       1.623150       7.863267       0.866607   \n",
      "min        -0.040200       5.074800     -32.562600       2.347300   \n",
      "25%         5.254075       9.883175     -11.200350       4.767700   \n",
      "50%         6.825000      11.108250      -4.833150       5.385100   \n",
      "75%         8.324100      12.261125       0.924800       6.003000   \n",
      "max        13.188300      16.671400      17.251600       8.447700   \n",
      "\n",
      "               var_7          var_8  ...        var_190        var_191  \\\n",
      "count  200000.000000  200000.000000  ...  200000.000000  200000.000000   \n",
      "mean       16.545850       0.284162  ...       3.234440       7.438408   \n",
      "std         3.418076       3.332634  ...       4.559922       3.023272   \n",
      "min         5.349700     -10.505500  ...     -14.093300      -2.691700   \n",
      "25%        13.943800      -2.317800  ...      -0.058825       5.157400   \n",
      "50%        16.456800       0.393700  ...       3.203600       7.347750   \n",
      "75%        19.102900       2.937900  ...       6.406200       9.512525   \n",
      "max        27.691800      10.151300  ...      18.440900      16.716500   \n",
      "\n",
      "             var_192        var_193        var_194        var_195  \\\n",
      "count  200000.000000  200000.000000  200000.000000  200000.000000   \n",
      "mean        1.927839       3.331774      17.993784      -0.142088   \n",
      "std         1.478423       3.992030       3.135162       1.429372   \n",
      "min        -3.814500     -11.783400       8.694400      -5.261000   \n",
      "25%         0.889775       0.584600      15.629800      -1.170700   \n",
      "50%         1.901300       3.396350      17.957950      -0.172700   \n",
      "75%         2.949500       6.205800      20.396525       0.829600   \n",
      "max         8.402400      18.281800      27.928800       4.272900   \n",
      "\n",
      "             var_196        var_197        var_198        var_199  \n",
      "count  200000.000000  200000.000000  200000.000000  200000.000000  \n",
      "mean        2.303335       8.908158      15.870720      -3.326537  \n",
      "std         5.454369       0.921625       3.010945      10.438015  \n",
      "min       -14.209600       5.960600       6.299300     -38.852800  \n",
      "25%        -1.946925       8.252800      13.829700     -11.208475  \n",
      "50%         2.408900       8.888200      15.934050      -2.819550  \n",
      "75%         6.556725       9.593300      18.064725       4.836800  \n",
      "max        18.321500      12.000400      26.079100      28.500700  \n",
      "\n",
      "[8 rows x 201 columns]\n"
     ]
    }
   ],
   "source": [
    "# 3. Descriptive statistics\n",
    "print(\"\\nDescriptive statistics for Train DataFrame:\\n\", train_df.describe())"
   ]
  },
  {
   "cell_type": "code",
   "execution_count": 6,
   "id": "131cb021-c944-49c7-8d90-59e0280e0bdd",
   "metadata": {},
   "outputs": [
    {
     "name": "stdout",
     "output_type": "stream",
     "text": [
      "\n",
      "Target variable distribution:\n",
      " target\n",
      "0    0.89951\n",
      "1    0.10049\n",
      "Name: proportion, dtype: float64\n"
     ]
    }
   ],
   "source": [
    "# 4. Target variable distribution\n",
    "print(\"\\nTarget variable distribution:\\n\", train_df['target'].value_counts(normalize=True))"
   ]
  },
  {
   "cell_type": "code",
   "execution_count": 7,
   "id": "8eadde81-535c-4d41-90c7-1fa05075b965",
   "metadata": {},
   "outputs": [
    {
     "name": "stdout",
     "output_type": "stream",
     "text": [
      "\n",
      "Correlation matrix for first 10 features:\n",
      "           target     var_0     var_1     var_2     var_3     var_4     var_5  \\\n",
      "target  1.000000  0.052390  0.050343  0.055870  0.011055  0.010915  0.030979   \n",
      "var_0   0.052390  1.000000 -0.000544  0.006573  0.003801  0.001326  0.003046   \n",
      "var_1   0.050343 -0.000544  1.000000  0.003980  0.000010  0.000303 -0.000902   \n",
      "var_2   0.055870  0.006573  0.003980  1.000000  0.001001  0.000723  0.001569   \n",
      "var_3   0.011055  0.003801  0.000010  0.001001  1.000000 -0.000322  0.003253   \n",
      "var_4   0.010915  0.001326  0.000303  0.000723 -0.000322  1.000000 -0.001368   \n",
      "var_5   0.030979  0.003046 -0.000902  0.001569  0.003253 -0.001368  1.000000   \n",
      "var_6   0.066731  0.006983  0.003258  0.000883 -0.000774  0.000049  0.002588   \n",
      "var_7  -0.003025  0.002429  0.001511 -0.000991  0.002500  0.004549 -0.000995   \n",
      "var_8   0.019584  0.004962  0.004098  0.002648  0.003553  0.001194  0.000147   \n",
      "var_9  -0.042805 -0.002613 -0.000832 -0.001932 -0.000826 -0.000918 -0.005279   \n",
      "\n",
      "           var_6     var_7     var_8     var_9  \n",
      "target  0.066731 -0.003025  0.019584 -0.042805  \n",
      "var_0   0.006983  0.002429  0.004962 -0.002613  \n",
      "var_1   0.003258  0.001511  0.004098 -0.000832  \n",
      "var_2   0.000883 -0.000991  0.002648 -0.001932  \n",
      "var_3  -0.000774  0.002500  0.003553 -0.000826  \n",
      "var_4   0.000049  0.004549  0.001194 -0.000918  \n",
      "var_5   0.002588 -0.000995  0.000147 -0.005279  \n",
      "var_6   1.000000 -0.002548 -0.001188 -0.005697  \n",
      "var_7  -0.002548  1.000000  0.000814  0.002885  \n",
      "var_8  -0.001188  0.000814  1.000000 -0.001073  \n",
      "var_9  -0.005697  0.002885 -0.001073  1.000000  \n"
     ]
    }
   ],
   "source": [
    "# 5. Correlation analysis (for a subset to avoid overloading)\n",
    "correlation_matrix = train_df.iloc[:, 1:12].corr()\n",
    "print(\"\\nCorrelation matrix for first 10 features:\\n\", correlation_matrix)"
   ]
  },
  {
   "cell_type": "code",
   "execution_count": 8,
   "id": "723c26dc-ba98-4397-874c-0a25758a73a9",
   "metadata": {},
   "outputs": [],
   "source": [
    "from sklearn.model_selection import train_test_split\n",
    "from sklearn.preprocessing import StandardScaler\n",
    "\n",
    "# Separate features and target\n",
    "X = train_df.drop(columns=['ID_code', 'target'])\n",
    "y = train_df['target']\n",
    "\n",
    "# Split the data into training and validation sets\n",
    "X_train, X_val, y_train, y_val = train_test_split(X, y, test_size=0.2, random_state=42, stratify=y)\n",
    "\n",
    "# Feature Scaling\n",
    "scaler = StandardScaler()\n",
    "X_train_scaled = scaler.fit_transform(X_train)\n",
    "X_val_scaled = scaler.transform(X_val)\n"
   ]
  },
  {
   "cell_type": "code",
   "execution_count": 9,
   "id": "f78119af-089e-4842-a12a-6a3a0e9d5b3b",
   "metadata": {},
   "outputs": [
    {
     "name": "stdout",
     "output_type": "stream",
     "text": [
      "Validation AUC-ROC Score: 0.8198\n"
     ]
    }
   ],
   "source": [
    "from sklearn.ensemble import RandomForestClassifier\n",
    "from sklearn.metrics import roc_auc_score\n",
    "\n",
    "# Initialize the model\n",
    "model = RandomForestClassifier(n_estimators=100, random_state=42)\n",
    "\n",
    "# Train the model\n",
    "model.fit(X_train_scaled, y_train)\n",
    "\n",
    "# Predict on the validation set\n",
    "y_val_pred = model.predict_proba(X_val_scaled)[:, 1]\n",
    "\n",
    "# Evaluate the model using AUC-ROC\n",
    "roc_auc = roc_auc_score(y_val, y_val_pred)\n",
    "print(f'Validation AUC-ROC Score: {roc_auc:.4f}')\n"
   ]
  },
  {
   "cell_type": "code",
   "execution_count": null,
   "id": "1858b985-36f6-42ae-bda2-671da782a6aa",
   "metadata": {},
   "outputs": [],
   "source": []
  }
 ],
 "metadata": {
  "kernelspec": {
   "display_name": "Python (new_ml_env)",
   "language": "python",
   "name": "new_ml_env"
  },
  "language_info": {
   "codemirror_mode": {
    "name": "ipython",
    "version": 3
   },
   "file_extension": ".py",
   "mimetype": "text/x-python",
   "name": "python",
   "nbconvert_exporter": "python",
   "pygments_lexer": "ipython3",
   "version": "3.8.19"
  }
 },
 "nbformat": 4,
 "nbformat_minor": 5
}
